{
 "cells": [
  {
   "cell_type": "markdown",
   "id": "1d440dab-e720-4139-84e1-95fb86d48124",
   "metadata": {},
   "source": [
    "# KNN Assignment 1"
   ]
  },
  {
   "cell_type": "markdown",
   "id": "74e81317-8165-45ee-8796-cd5eaa728311",
   "metadata": {},
   "source": [
    "### Q1. What is the KNN algorithm?"
   ]
  },
  {
   "cell_type": "markdown",
   "id": "07a3319a-29e9-42a2-aef6-3f9554b1d15e",
   "metadata": {},
   "source": [
    "K-Nearest Neighbors (KNN) is like asking your neighbors for advice. Imagine you move to a new neighborhood, and you want to know if it's safe or friendly. You go to your nearest neighbors and ask them about their experiences.\n",
    "\n",
    "In the world of data, KNN is an algorithm that helps a computer make decisions based on what its \"neighbors\" (similar data points in a dataset) are like. If you have some data and you want to know what category or value a new data point should belong to, KNN looks at the data points that are most similar to the new one and decides based on what those neighbors are like.\n",
    "\n",
    "For example, if you have data about fruits and you want to know if a new fruit is an apple or a banana, KNN would check the features (like size and color) of the nearest fruits in the dataset and make a prediction based on what those similar fruits are.\n",
    "\n",
    "The key idea is that things that are close to each other in a dataset are often similar, so KNN leverages this similarity to make predictions. It's a simple and intuitive way for a computer to learn from data."
   ]
  },
  {
   "cell_type": "markdown",
   "id": "8e488bbd-e508-41c5-98c5-251163e9a5b4",
   "metadata": {},
   "source": [
    "### Q2. How do you choose the value of K in KNN?"
   ]
  },
  {
   "cell_type": "markdown",
   "id": "075c3bbf-7ed4-4c18-a95b-b39fc738800f",
   "metadata": {},
   "source": [
    "1. **Odd vs. Even K**:\n",
    "   - For a binary classification problem (two classes), it's better to choose an odd K value to prevent ties when voting for the class, making predictions less ambiguous.\n",
    "\n",
    "2. **Cross-Validation**:\n",
    "   - A reliable way to find the right K is by splitting your data into training and validation sets and testing different K values. Pick the K that gives the best performance on the validation data, which helps prevent overfitting.\n",
    "\n",
    "3. **Domain Knowledge**:\n",
    "   - If you know your problem well, consider your domain knowledge when selecting K. It can provide valuable insights into what neighborhood size is most meaningful for your specific application.\n",
    "\n",
    "4. **Rule of Thumb**:\n",
    "   - As a starting point, you can use K = sqrt(N), where N is the total number of data points in your dataset. It's a reasonable initial choice for K."
   ]
  },
  {
   "cell_type": "markdown",
   "id": "d5d84655-b6ec-4ff3-bfeb-035264466e14",
   "metadata": {},
   "source": [
    "### Q3. What is the difference between KNN classifier and KNN regressor?"
   ]
  },
  {
   "cell_type": "markdown",
   "id": "4bed5852-0053-4f7a-9130-5eb2c09bc0a1",
   "metadata": {},
   "source": [
    "\n",
    "| Aspect                    | KNN Classifier                | KNN Regressor                 |\n",
    "|---------------------------|-------------------------------|------------------------------|\n",
    "| **Type of Problem**       | Classification                | Regression                    |\n",
    "| **Output**                | Discrete class labels         | Continuous numerical values   |\n",
    "| **Predicted Value**       | Assigns a class label         | Assigns a numerical value    |\n",
    "| **K-Nearest Neighbors**   | Based on majority voting      | Based on averaging or weighting |\n",
    "| **Distance Metric**       | Often uses Euclidean distance | Often uses Euclidean distance |\n",
    "| **Decision Boundary**     | Separates classes with boundaries | Provides a smooth, continuous prediction surface |\n",
    "| **Evaluation Metrics**    | Accuracy, precision, recall, F1-score, etc. | Mean squared error, R-squared, etc. |\n",
    "| **Common Applications**   | Image classification, text categorization, etc. | Stock price prediction, house price prediction, etc. |\n"
   ]
  },
  {
   "cell_type": "markdown",
   "id": "4c4777ee-d92f-498e-b956-e58328606ef1",
   "metadata": {},
   "source": [
    "### Q4. How do you measure the performance of KNN?"
   ]
  },
  {
   "cell_type": "markdown",
   "id": "828fb529-fe54-449c-8317-50f022e5a8a5",
   "metadata": {},
   "source": [
    "\n",
    "**For KNN Classification:**\n",
    "\n",
    "1. **Accuracy**: It's like checking how many of your predictions are correct out of all predictions.\n",
    "\n",
    "2. **Precision and Recall**: Think of them as checking how good you are at catching positive cases (precision) and not missing any positive cases (recall).\n",
    "\n",
    "3. **F1-Score**: It's a balance between being good at catching positive cases and not making wrong positive predictions.\n",
    "\n",
    "4. **Confusion Matrix**: It's like a summary of how many correct and wrong predictions you made.\n",
    "\n",
    "5. **ROC Curve and AUC**: They help you see how well your model distinguishes between positive and negative cases.\n",
    "\n",
    "**For KNN Regression:**\n",
    "\n",
    "1. **Mean Squared Error (MSE)**: It's like checking how far, on average, your predictions are from the actual values.\n",
    "\n",
    "2. **Root Mean Squared Error (RMSE)**: Similar to MSE but gives you an error measure in the same units as the values you're predicting.\n",
    "\n",
    "3. **Mean Absolute Error (MAE)**: It's like checking how far, on average, your predictions are from the actual values but without squaring the differences.\n",
    "\n",
    "4. **R-squared (R²)**: It tells you how well your model fits the data, with a higher value meaning a better fit.\n",
    "\n",
    "Remember, which one you use depends on whether you're working with classification (e.g., classifying things into categories) or regression (e.g., predicting numerical values)."
   ]
  },
  {
   "cell_type": "markdown",
   "id": "e068c2a6-1aa8-434a-bee9-d061d55632a3",
   "metadata": {},
   "source": [
    "### Q5. What is the curse of dimensionality in KNN?"
   ]
  },
  {
   "cell_type": "markdown",
   "id": "ec53ecd6-77e2-4034-aa65-032493f05d0a",
   "metadata": {},
   "source": [
    "Imagine you have a lot of data with many, many features (like hundreds or thousands). In KNN, having too many features can be a problem.\n",
    "\n",
    "Here's why:\n",
    "\n",
    "1. **It's Hard to Find Neighbors**: In a high-dimensional space, things are far apart. It's like living in a huge city, and your nearest neighbors might be very far from you. KNN needs nearby neighbors to work well.\n",
    "\n",
    "2. **Calculations are Slow**: KNN involves measuring distances between data points. With lots of dimensions, these calculations become very slow and can be a real computational burden.\n",
    "\n",
    "3. **You Need a Lot of Data**: To make up for the sparsity in high dimensions, you'd need an enormous amount of data. Getting that much data can be tough.\n",
    "\n",
    "4. **It's Easy to Make Mistakes**: With many features, it's easier to make mistakes and misinterpret the data, leading to poor predictions.\n",
    "\n",
    "To deal with this, people often use tricks like reducing the number of features or using special distance measures. The curse of dimensionality is all about the problems you face when dealing with too many features in KNN."
   ]
  },
  {
   "cell_type": "markdown",
   "id": "52c65101-b094-4614-825e-41c3fd1d9ecf",
   "metadata": {},
   "source": [
    "### Q6. How do you handle missing values in KNN?"
   ]
  },
  {
   "cell_type": "markdown",
   "id": "f5bd6949-48f9-44f9-b16e-2d941f5895e2",
   "metadata": {},
   "source": [
    "Handling missing values in K-Nearest Neighbors (KNN) can be a bit tricky because KNN relies on measuring distances between data points. Here are several approaches to deal with missing values when using KNN:\n",
    "\n",
    "1. **Imputation**:\n",
    "   - Fill in missing values with estimated or imputed values. Common methods for imputation include using the mean, median, mode, or a regression model to estimate the missing values. Imputing values allows you to maintain complete data for KNN.\n",
    "\n",
    "2. **Data Transformation**:\n",
    "   - Convert your data into a format that is insensitive to missing values. For example, you can use binary flags (0 for missing, 1 for present) to represent missing values. This way, you can still calculate distances while accounting for the missing values.\n",
    "\n",
    "3. **Feature Selection**:\n",
    "   - If a feature has too many missing values, and you believe it doesn't carry much information, you may consider removing that feature from the dataset. Feature selection can help simplify your model.\n",
    "\n",
    "4. **Weighted KNN**:\n",
    "   - Modify the KNN algorithm to give different weights to neighbors based on the number of missing values they have. Neighbors with fewer missing values can be given more weight in the calculations, as they are more informative.\n",
    "\n",
    "5. **Use a Separate Category**:\n",
    "   - If appropriate for your data, you can treat missing values as a separate category or label. This can work well when the missing values themselves contain valuable information.\n",
    "\n",
    "6. **Nearest Neighbors with Similar Missing Data**:\n",
    "   - When you have a lot of missing values, consider using only the neighbors with similar patterns of missing values. This can be more informative than including all neighbors.\n",
    "\n",
    "7. **KNN Imputation**:\n",
    "   - There's a specific method called \"KNN imputation\" where you use KNN to impute missing values. For each missing value, you find the K-nearest neighbors for that data point and use their values to estimate the missing value. This approach is more complex but can be effective.\n",
    "\n",
    "8. **Use Specialized Libraries**:\n",
    "   - Some machine learning libraries, like scikit-learn in Python, offer tools and functions to handle missing values within the KNN algorithm itself.\n",
    "\n",
    "The choice of method depends on your specific data, the nature of the missing values, and the goals of your analysis. In any case, it's essential to carefully consider how missing values may affect the quality of your KNN model and choose an approach that makes sense for your particular problem."
   ]
  },
  {
   "cell_type": "markdown",
   "id": "f80ef200-a6c3-4953-b7fa-fbd643d8b4e1",
   "metadata": {},
   "source": [
    "### Q7. Compare and contrast the performance of the KNN classifier and regressor. Which one is better for which type of problem?"
   ]
  },
  {
   "cell_type": "markdown",
   "id": "0cf11dc3-b418-4c9d-98bd-00bb3ae3eaf6",
   "metadata": {},
   "source": [
    "\n",
    "**KNN Classifier:**\n",
    "\n",
    "| Aspect                   | Description                                  |\n",
    "|--------------------------|----------------------------------------------|\n",
    "| Type of Problem          | Classification                               |\n",
    "| Output                   | Discrete class labels                       |\n",
    "| Predicted Value          | Class label (e.g., \"spam\" or \"not spam\")    |\n",
    "| Performance Metrics      | Accuracy, precision, recall, F1-score, etc.  |\n",
    "| Decision Boundary        | Separates classes with decision boundaries   |\n",
    "| Use Cases                | Image classification, text categorization, fraud detection, medical diagnosis (e.g., disease/no disease) |\n",
    "\n",
    "**KNN Regressor:**\n",
    "\n",
    "| Aspect                   | Description                                  |\n",
    "|--------------------------|----------------------------------------------|\n",
    "| Type of Problem          | Regression                                   |\n",
    "| Output                   | Continuous numerical values                  |\n",
    "| Predicted Value          | Continuous numerical value (e.g., house price, stock price) |\n",
    "| Performance Metrics      | Mean Squared Error (MSE), Root Mean Squared Error (RMSE), Mean Absolute Error (MAE), R-squared (R²), etc. |\n",
    "| Prediction Surface       | Provides a smooth, continuous prediction surface |\n",
    "| Use Cases                | House price prediction, stock price prediction, demand forecasting, any prediction involving numerical values |\n",
    "\n",
    "This tabular representation summarizes the key differences between KNN classifier and KNN regressor."
   ]
  },
  {
   "cell_type": "markdown",
   "id": "64bed9dc-c104-4198-b34d-9ae61ba5a08f",
   "metadata": {},
   "source": [
    "### Q8. What are the strengths and weaknesses of the KNN algorithm for classification and regression tasks, and how can these be addressed?"
   ]
  },
  {
   "cell_type": "markdown",
   "id": "1bcb5c1f-cb47-41e2-ad99-8353a850d0d2",
   "metadata": {},
   "source": [
    "\n",
    "\n",
    "**KNN for Classification**\n",
    "\n",
    "| **Strengths**               | **Weaknesses**                                | **Addressing Weaknesses**                         |\n",
    "|---------------------------|---------------------------------------------|-------------------------------------------------|\n",
    "| Simplicity                | Computationally Intensive                    | Optimize K: Use cross-validation or grid search. |\n",
    "| Non-parametric            | Sensitivity to Outliers                      | Data Preprocessing: Standardize, normalize data. |\n",
    "| Adaptability              | Optimal K Value                               | Outlier Handling: Identify and handle outliers.    |\n",
    "|                           |                                             | Distance Metrics: Experiment with alternatives.   |\n",
    "|                           |                                             | Ensemble Methods: Combine with other algorithms.  |\n",
    "\n",
    "**KNN for Regression**\n",
    "\n",
    "| **Strengths**               | **Weaknesses**                                | **Addressing Weaknesses**                         |\n",
    "|---------------------------|---------------------------------------------|-------------------------------------------------|\n",
    "| Simplicity                | Computationally Intensive                    | Optimize K: Use cross-validation or grid search. |\n",
    "| Flexibility               | Sensitivity to Outliers                      | Data Preprocessing: Standardize, normalize data. |\n",
    "| Adaptability              | Optimal K Value                               | Outlier Handling: Identify and handle outliers.    |\n",
    "|                           |                                             | Distance Metrics: Experiment with alternatives.   |\n",
    "|                           |                                             | Ensemble Methods: Combine with other algorithms.  |\n"
   ]
  },
  {
   "cell_type": "markdown",
   "id": "0f30e965-5ecb-41de-8164-5317b1fd879f",
   "metadata": {},
   "source": [
    "### Q9. What is the difference between Euclidean distance and Manhattan distance in KNN?"
   ]
  },
  {
   "attachments": {
    "8ccf951b-20e4-468a-b4c0-c5a3e49a6539.jpg": {
     "image/jpeg": "[encoded data removed]"
    }
   },
   "cell_type": "markdown",
   "id": "c84240ca-7f1d-4479-99a6-dd2b6b69fdfb",
   "metadata": {},
   "source": [
    "![download.jpg](attachment:8ccf951b-20e4-468a-b4c0-c5a3e49a6539.jpg)\n",
    "\n",
    "**Euclidean Distance:**\n",
    "\n",
    "| Aspect                  | Description                                          |\n",
    "|-------------------------|------------------------------------------------------|\n",
    "| Formula                 | `sqrt((x1-x2)^2 + (y1-y2)^2 + (z1-z2)^2 + ...)`     |\n",
    "| Sensitivity             | Sensitive to both magnitude and direction.           |\n",
    "| Anisotropy              | Suitable for isotropic (similar in all directions) relationships between features. |\n",
    "\n",
    "**Manhattan Distance:**\n",
    "\n",
    "| Aspect                  | Description                                          |\n",
    "|-------------------------|------------------------------------------------------|\n",
    "| Formula                 | absolute values : x1-x2 + y1-y2 + z1-z2 + ...             |\n",
    "| Sensitivity             | Less sensitive to outliers and differences in scale.  |\n",
    "| Anisotropy              | Suitable for anisotropic (differing in various directions) relationships between features. |\n"
   ]
  },
  {
   "cell_type": "markdown",
   "id": "fad6fc07-43af-455e-a256-f7fe6c83c864",
   "metadata": {},
   "source": [
    "### Q10. What is the role of feature scaling in KNN?"
   ]
  },
  {
   "cell_type": "markdown",
   "id": "a59c4572-18e9-4bfe-9044-738ae0157ed5",
   "metadata": {},
   "source": [
    "\n",
    "Feature scaling helps KNN work better by making sure all the features (like height and weight) are on the same scale. This way, KNN doesn't favor one feature over the others when deciding how similar data points are. It ensures fairness in comparing features.\n",
    "\n",
    "Imagine you have data about people, and you're using KNN to find similar individuals. Without feature scaling, KNN might give too much importance to, say, weight because it's measured in kilograms (which is a large number) compared to height in meters. Feature scaling levels the playing field, so both height and weight contribute equally to the similarity calculation.\n",
    "\n",
    "It's like putting everything in the same units so that each feature gets a fair say in the decision-making process. This makes KNN more accurate and less biased toward features with large values."
   ]
  },
  {
   "cell_type": "markdown",
   "id": "2986c84c-1d46-4345-8b43-ce968b7c76bf",
   "metadata": {},
   "source": [
    "## The End"
   ]
  }
 ],
 "metadata": {
  "kernelspec": {
   "display_name": "Python 3 (ipykernel)",
   "language": "python",
   "name": "python3"
  },
  "language_info": {
   "codemirror_mode": {
    "name": "ipython",
    "version": 3
   },
   "file_extension": ".py",
   "mimetype": "text/x-python",
   "name": "python",
   "nbconvert_exporter": "python",
   "pygments_lexer": "ipython3",
   "version": "3.10.8"
  }
 },
 "nbformat": 4,
 "nbformat_minor": 5
}
