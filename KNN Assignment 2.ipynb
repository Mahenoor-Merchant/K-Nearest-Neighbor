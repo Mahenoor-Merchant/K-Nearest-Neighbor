{
 "cells": [
  {
   "cell_type": "markdown",
   "id": "bb3f5920-992d-4ffd-813f-506a61cf8977",
   "metadata": {},
   "source": [
    "# KNN Assignment 2"
   ]
  },
  {
   "cell_type": "markdown",
   "id": "9ea85464-48e2-46af-b99d-f2fb6664cac3",
   "metadata": {},
   "source": [
    "### Q1. What is the main difference between the Euclidean distance metric and the Manhattan distance metric in KNN? How might this difference affect the performance of a KNN classifier or regressor?"
   ]
  },
  {
   "attachments": {
    "8ccf951b-20e4-468a-b4c0-c5a3e49a6539.jpg": {
     "image/jpeg": "[encoded data removed]"
    }
   },
   "cell_type": "markdown",
   "id": "0ee35594-06a8-4795-9bac-8289861f1f73",
   "metadata": {},
   "source": [
    "\n",
    "**Euclidean Distance:**\n",
    "\n",
    "| Aspect                  | Description                                          |\n",
    "|-------------------------|------------------------------------------------------|\n",
    "| Formula                 | `sqrt((x1-x2)^2 + (y1-y2)^2 + (z1-z2)^2 + ...)`     |\n",
    "| Sensitivity             | Sensitive to both magnitude and direction.           |\n",
    "| Anisotropy              | Suitable for isotropic (similar in all directions) relationships between features. |\n",
    "\n",
    "**Manhattan Distance:**\n",
    "\n",
    "| Aspect                  | Description                                          |\n",
    "|-------------------------|------------------------------------------------------|\n",
    "| Formula                 | absolute values : x1-x2 + y1-y2 + z1-z2 + ...             |\n",
    "| Sensitivity             | Less sensitive to outliers and differences in scale.  |\n",
    "| Anisotropy              | Suitable for anisotropic (differing in various directions) relationships between features. |\n",
    "\n",
    "**How might this difference affect the performance of a KNN classifier or regressor?**\n",
    "\n",
    "![download.jpg](attachment:8ccf951b-20e4-468a-b4c0-c5a3e49a6539.jpg)\n",
    " \n",
    "**Euclidean Distance**:\n",
    "\n",
    "- Imagine it's like measuring the straight-line distance between two points. It cares about both how far apart they are and in which direction they are separated.\n",
    "\n",
    "- It can be sensitive to differences in scale (like comparing meters to millimeters) and can be affected by outliers (unusual data points).\n",
    "\n",
    "- Use it when your data's relationships between features are similar in all directions, like measuring distances in a balanced way.\n",
    "\n",
    "**Manhattan Distance**:\n",
    "\n",
    "- Think of it as measuring the distance by adding up the steps you need to take when moving in a grid-like city. It only considers how many steps you take in different directions.\n",
    "\n",
    "- It's less sensitive to differences in scale and outliers because it only looks at the absolute differences (ignoring plus or minus) along each axis.\n",
    "\n",
    "- Use it when your data's relationships between features are different in various directions, like navigating a city with lots of right-angle turns.\n",
    "\n",
    "In KNN, choosing the right one depends on your data. If your data is balanced and has similar relationships between features, go for Euclidean. If it's not balanced or has different relationships, go for Manhattan. And remember, sometimes it's best to try both and see which one works better for your specific problem."
   ]
  },
  {
   "cell_type": "markdown",
   "id": "3e6a1242-9d54-4c83-95e9-1c87374ff73a",
   "metadata": {},
   "source": [
    "### Q2. How do you choose the optimal value of k for a KNN classifier or regressor? What techniques can be used to determine the optimal k value?"
   ]
  },
  {
   "cell_type": "markdown",
   "id": "c4041c92-465e-4fff-9aa8-ce300ce2c046",
   "metadata": {},
   "source": [
    "1. **Odd vs. Even K**:\n",
    "   - For a binary classification problem (two classes), it's better to choose an odd K value to prevent ties when voting for the class, making predictions less ambiguous.\n",
    "\n",
    "2. **Cross-Validation**:\n",
    "   - A reliable way to find the right K is by splitting your data into training and validation sets and testing different K values. Pick the K that gives the best performance on the validation data, which helps prevent overfitting.\n",
    "\n",
    "3. **Domain Knowledge**:\n",
    "   - If you know your problem well, consider your domain knowledge when selecting K. It can provide valuable insights into what neighborhood size is most meaningful for your specific application.\n",
    "\n",
    "4. **Rule of Thumb**:\n",
    "   - As a starting point, you can use K = sqrt(N), where N is the total number of data points in your dataset. It's a reasonable initial choice for K."
   ]
  },
  {
   "cell_type": "markdown",
   "id": "e5b035f4-204f-45b9-9afa-3d866e03bc76",
   "metadata": {},
   "source": [
    "### Q3. How does the choice of distance metric affect the performance of a KNN classifier or regressor? In what situations might you choose one distance metric over the other?"
   ]
  },
  {
   "cell_type": "markdown",
   "id": "ce7f8f5e-7480-4117-b76b-77f38481fdad",
   "metadata": {},
   "source": [
    "\n",
    "- **Euclidean Distance** is like measuring distance in a straight line. It's great when everything is balanced and you care about both how far apart things are and in what direction they're separated. It's sensitive to differences in size and can be affected by unusual data.\n",
    "\n",
    "- **Manhattan Distance** is like measuring distance by counting steps in a city with streets running north-south and east-west. It works better when things are not balanced, and you don't really care about size or direction as much. It's less bothered by unusual data.\n",
    "\n",
    "- **Choosing the Right One**: Use Euclidean when things are balanced and both size and direction matter. Use Manhattan when things are not balanced, and you don't care as much about size or direction. Sometimes, it's good to try both and see what works best for your specific problem.\n",
    "\n",
    "- If you have a lot of data with many features, you might want to think about reducing the number of features, so you don't get bogged down by the calculations. This is especially important when dealing with high-dimensional data.\n",
    "\n",
    "In a nutshell, the choice between Euclidean and Manhattan distance depends on the nature of your data. One might work better than the other depending on how balanced your data is and whether you care more about size or direction. Experiment to see which one gives you better results for your problem."
   ]
  },
  {
   "cell_type": "markdown",
   "id": "0af30326-41dc-4a69-b5dd-47f714810f42",
   "metadata": {},
   "source": [
    "### Q4. What are some common hyperparameters in KNN classifiers and regressors, and how do they affect the performance of the model? How might you go about tuning these hyperparameters to improve model performance?"
   ]
  },
  {
   "cell_type": "markdown",
   "id": "62f7da6b-7c0e-4ff9-8eb7-5d5ca27b939a",
   "metadata": {},
   "source": [
    "\n",
    "| Hyperparameter          | Effect on Performance                               | Tuning Strategy                                        |\n",
    "|------------------------|----------------------------------------------------|--------------------------------------------------------|\n",
    "| K (Number of Neighbors) | - Smaller K: Sensitive to noise, potential overfitting - Larger K: Oversmoothing | Use cross-validation or grid search to experiment with different K values and choose the one that minimizes errors. |\n",
    "| Distance Metric        | - Affects similarity calculation (e.g., Euclidean, Manhattan) - Should match data characteristics | Experiment with different distance metrics to choose the one that works best for your dataset based on scale and direction. |\n",
    "| Weighting Scheme       | - Uniform (all neighbors have equal weight) - Distance-based (closer neighbors have more influence) | Experiment with different weighting schemes to see which one yields better results. Distance-based weighting can be beneficial when closer neighbors are more informative. |\n",
    "| Algorithm for Finding Neighbors | - Different algorithms (e.g., Ball Tree, KD Tree) - Impact computational efficiency | Depending on dataset size and dimensionality, test different neighbor search algorithms to find the one that works faster and more effectively. |\n",
    "| Dimensionality Reduction | - Reduces the number of features - Addresses \"curse of dimensionality\" | Experiment with dimensionality reduction techniques, like PCA, to reduce high-dimensional data's complexity. |\n"
   ]
  },
  {
   "cell_type": "markdown",
   "id": "6ee672dd-9c66-4a56-971a-4d572cdeea97",
   "metadata": {},
   "source": [
    "### Q5. How does the size of the training set affect the performance of a KNN classifier or regressor? What techniques can be used to optimize the size of the training set?"
   ]
  },
  {
   "cell_type": "markdown",
   "id": "23e385aa-cd3e-437f-a815-99c7e489ef98",
   "metadata": {},
   "source": [
    "\n",
    "\n",
    "| Training Set Size     | Small Training Set                                                                                              | Large Training Set                                                                                     |\n",
    "|-----------------------|------------------------------------------------------------------------------------------------------------------|--------------------------------------------------------------------------------------------------------|\n",
    "| Effect on Performance | - The model may not capture underlying patterns effectively. - Sensitivity to noise and high variance, leading to overfitting. | - More data to learn from, capturing true underlying patterns. - Reduced risk of overfitting.          |\n",
    "| Issues                | - Overfitting - Poor generalization to unseen data - Unreliable model predictions                                       |  - Better overall performance - Computational complexity - Data management challenges - Handling outliers and noise - Curse of dimensionality - Generalization to unseen data - Model complexity                   |\n",
    "\n"
   ]
  },
  {
   "cell_type": "markdown",
   "id": "8d9fd408-6124-48ef-8623-ef1baf290216",
   "metadata": {},
   "source": [
    "Optimizing the size of the training set in a K-Nearest Neighbors (KNN) model involves strategies to make the most of the available data. Here are techniques that can be used to optimize the training set size:\n",
    "\n",
    "1. **Data Collection**:\n",
    "   - Collect more data: If possible, gather additional data from various sources to increase the size of your training set.\n",
    "\n",
    "2. **Data Sampling**:\n",
    "   - Bootstrapping: Generate additional training examples by resampling from your existing data with replacement.\n",
    "   - Random sampling: Randomly select a subset of your data for training, creating a smaller but diverse training set.\n",
    "\n",
    "3. **Feature Selection**:\n",
    "   - Carefully choose the most informative features to include in your training set. Removing irrelevant or redundant features can effectively reduce the dimensionality of your data.\n",
    "\n",
    "4. **Dimensionality Reduction**:\n",
    "   - Use dimensionality reduction techniques like Principal Component Analysis (PCA) to reduce the number of features while preserving important information.\n",
    "\n",
    "5. **Data Augmentation**:\n",
    "   - Create synthetic data by applying domain knowledge or data augmentation techniques. For instance, in image classification, you can rotate, crop, or flip existing images to generate more training examples.\n",
    "\n",
    "6. **Cross-Validation**:\n",
    "   - Implement cross-validation techniques (e.g., k-fold cross-validation) to make more efficient use of your existing data. Cross-validation divides your data into training and validation sets multiple times, helping you assess your model's performance more accurately.\n",
    "\n",
    "7. **Active Learning**:\n",
    "   - Use active learning strategies to intelligently select which data points to label and include in the training set, focusing on the most informative examples.\n",
    "\n",
    "8. **Incremental Learning**:\n",
    "   - Implement incremental or online learning techniques, where you continuously update your model as new data becomes available. This can be useful for adapting to changing data distributions.\n",
    "\n",
    "9. **Weighted Sampling**:\n",
    "   - If certain subsets of your data are more representative or valuable, use weighted sampling to increase the prominence of those subsets in your training data.\n",
    "\n",
    "10. **Domain Knowledge**:\n",
    "    - Leverage domain expertise to curate a more focused training set that captures the most important aspects of your problem.\n",
    "\n",
    "11. **Synthetic Data Generation**:\n",
    "    - For imbalanced datasets, generate synthetic data for minority classes to balance the training set.\n",
    "\n",
    "12. **Data Imputation**:\n",
    "    - Use data imputation techniques to fill in missing values and make the most of incomplete data.\n"
   ]
  },
  {
   "cell_type": "markdown",
   "id": "bcb912b7-06b9-4bc1-8ef7-891db44bf53d",
   "metadata": {},
   "source": [
    "### Q6. What are some potential drawbacks of using KNN as a classifier or regressor? How might you overcome these drawbacks to improve the performance of the model?"
   ]
  },
  {
   "cell_type": "markdown",
   "id": "db74a272-795a-46dd-adc2-3be428ebcac9",
   "metadata": {},
   "source": [
    "\n",
    "\n",
    "| Drawback                         | How to Overcome                               |\n",
    "|----------------------------------|-----------------------------------------------|\n",
    "| Computational Intensity          | Use efficient data structures (e.g., KD-trees or Ball trees) for faster neighbor search. |\n",
    "| Curse of Dimensionality          | Apply dimensionality reduction techniques like PCA to reduce the number of features. |\n",
    "| Sensitivity to Scale and Outliers | Scale and standardize features to make them comparable and reduce sensitivity to scale and outliers. |\n",
    "| Local Optima                     | Experiment with different values of K and distance metrics using cross-validation or grid search. |\n",
    "| Ineffective for Imbalanced Data  | Use resampling techniques (e.g., oversampling, undersampling, or synthetic data generation) to address imbalanced datasets. |\n",
    "| Memory Usage                     | Optimize memory usage and consider using parallel processing for large datasets. |\n"
   ]
  },
  {
   "cell_type": "markdown",
   "id": "ad835120-7f2a-47fc-81c9-5b5713f376e9",
   "metadata": {},
   "source": [
    "## The End"
   ]
  }
 ],
 "metadata": {
  "kernelspec": {
   "display_name": "Python 3 (ipykernel)",
   "language": "python",
   "name": "python3"
  },
  "language_info": {
   "codemirror_mode": {
    "name": "ipython",
    "version": 3
   },
   "file_extension": ".py",
   "mimetype": "text/x-python",
   "name": "python",
   "nbconvert_exporter": "python",
   "pygments_lexer": "ipython3",
   "version": "3.10.8"
  }
 },
 "nbformat": 4,
 "nbformat_minor": 5
}
